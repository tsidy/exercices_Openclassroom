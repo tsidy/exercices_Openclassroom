{
  "cells": [
    {
      "cell_type": "markdown",
      "id": "09b396fd",
      "metadata": {
        "id": "09b396fd"
      },
      "source": [
        "![openclassrooms](https://s3.eu-west-1.amazonaws.com/course.oc-static.com/courses/6204541/1+HnqdJ-5ofxiPP9HIxdNdpw.jpeg)\n",
        "\n",
        "# Créez vos premiers arrays avec Numpy\n",
        "\n",
        "Tout au long de ce cours, nous allons nous mettre dans la peau d’une personne travaillant  dans un service data au sein d'une banque. Plus précisément, vous travaillez pour la filière gérant les différents prêts. L’objectif sera d’utiliser les connaissances acquises sur les librairies Python pour aider l’agence dans différentes tâches.\n",
        "\n",
        "Pour cette première tâche, nous avons à notre disposition les revenus de 10 clients de notre banque. Vous aurez à utiliser les différentes manipulations présentées dans ce chapitre pour sélectionner certains revenus selon une condition spécifique et effectuer diverses opérations."
      ]
    },
    {
      "cell_type": "code",
      "execution_count": 1,
      "id": "e7a3ce8c",
      "metadata": {
        "id": "e7a3ce8c"
      },
      "outputs": [],
      "source": [
        "import numpy as np"
      ]
    },
    {
      "cell_type": "markdown",
      "id": "84b399c1",
      "metadata": {
        "id": "84b399c1"
      },
      "source": [
        "Considérons les revenus mensuels suivants :"
      ]
    },
    {
      "cell_type": "code",
      "execution_count": 2,
      "id": "10ad03dc",
      "metadata": {
        "id": "10ad03dc"
      },
      "outputs": [],
      "source": [
        "liste = [1800, 1500, 2200, 3000, 2172, 5000, 1400, 1200, 1100, 1300]"
      ]
    },
    {
      "cell_type": "markdown",
      "id": "b2dc62f8",
      "metadata": {
        "id": "b2dc62f8"
      },
      "source": [
        "A partir de ces revenus, créez un array que vous nommerez `revenus` :"
      ]
    },
    {
      "cell_type": "code",
      "execution_count": 3,
      "id": "cb05dcc0",
      "metadata": {
        "id": "cb05dcc0",
        "outputId": "1a205cdc-bde8-4bdc-bb9b-9f54410e800f",
        "colab": {
          "base_uri": "https://localhost:8080/",
          "height": 35
        }
      },
      "outputs": [
        {
          "output_type": "display_data",
          "data": {
            "text/plain": [
              "array([1800, 1500, 2200, 3000, 2172, 5000, 1400, 1200, 1100, 1300])"
            ]
          },
          "metadata": {}
        }
      ],
      "source": [
        "revenus = np.array(liste)\n",
        "display(revenus)"
      ]
    },
    {
      "cell_type": "markdown",
      "id": "0ec4fd80",
      "metadata": {
        "id": "0ec4fd80"
      },
      "source": [
        "Maintenant, créez un nouvel array `haut_revenus` dans lequel vous sélectionnerez l'ensemble des revenus supérieurs ou égal à 3000€ :"
      ]
    },
    {
      "cell_type": "code",
      "execution_count": 4,
      "id": "0e66fdc0",
      "metadata": {
        "id": "0e66fdc0",
        "outputId": "49684ea2-4c49-4796-faab-549f031d9b45",
        "colab": {
          "base_uri": "https://localhost:8080/",
          "height": 35
        }
      },
      "outputs": [
        {
          "output_type": "display_data",
          "data": {
            "text/plain": [
              "array([3000, 5000])"
            ]
          },
          "metadata": {}
        }
      ],
      "source": [
        "haut_revenus = revenus[revenus>=3000]\n",
        "display(haut_revenus)"
      ]
    },
    {
      "cell_type": "markdown",
      "id": "86a3574d",
      "metadata": {
        "id": "86a3574d"
      },
      "source": [
        " <div class=\"alert alert-warning\" role=\"alert\">\n",
        "  Notez qu'en python vous pouvez utiliser le '_' aka 'underscore' comme <strong>séparateur de milliers</strong>. En effet, '1 000 000' est plus facile à lire que '1000000'.\n",
        "</div>"
      ]
    },
    {
      "cell_type": "code",
      "execution_count": 5,
      "id": "5a325833",
      "metadata": {
        "id": "5a325833",
        "outputId": "c3c80c35-4296-427e-882f-72a576d8180b",
        "colab": {
          "base_uri": "https://localhost:8080/"
        }
      },
      "outputs": [
        {
          "output_type": "execute_result",
          "data": {
            "text/plain": [
              "array([3000, 5000])"
            ]
          },
          "metadata": {},
          "execution_count": 5
        }
      ],
      "source": [
        "haut_revenus = revenus[revenus>=3_000]\n",
        "haut_revenus"
      ]
    },
    {
      "cell_type": "markdown",
      "id": "6f07ebe0",
      "metadata": {
        "id": "6f07ebe0"
      },
      "source": [
        "Il est à présent temps de calculer quelques indicateurs :\n",
        "- calculez dans un premier temps la somme des revenus **annuelle**. Pour rappel, les revenus listés ci dessus sont mensuels.\n",
        "- calculez ensuite la moyenne des revenus des 10 clients"
      ]
    },
    {
      "cell_type": "code",
      "execution_count": 6,
      "id": "fcb0c22e",
      "metadata": {
        "id": "fcb0c22e",
        "outputId": "b35d9f15-94be-43c7-9739-9c5bde6ea153",
        "colab": {
          "base_uri": "https://localhost:8080/"
        }
      },
      "outputs": [
        {
          "output_type": "execute_result",
          "data": {
            "text/plain": [
              "20672"
            ]
          },
          "metadata": {},
          "execution_count": 6
        }
      ],
      "source": [
        "# On calcule la somme :\n",
        "\n",
        "somme_sum = revenus.sum()\n",
        "somme_sum"
      ]
    },
    {
      "cell_type": "code",
      "execution_count": 7,
      "id": "b01c19ed",
      "metadata": {
        "id": "b01c19ed",
        "outputId": "cdbe06c3-9b8d-4ed7-a72c-cc7cff7fa351",
        "colab": {
          "base_uri": "https://localhost:8080/"
        }
      },
      "outputs": [
        {
          "output_type": "execute_result",
          "data": {
            "text/plain": [
              "248064"
            ]
          },
          "metadata": {},
          "execution_count": 7
        }
      ],
      "source": [
        "# On multiplie par 12 :\n",
        "\n",
        "somme = somme_sum * 12\n",
        "somme"
      ]
    },
    {
      "cell_type": "markdown",
      "id": "b2acc78a",
      "metadata": {
        "id": "b2acc78a"
      },
      "source": [
        " <div class=\"alert alert-info\" role=\"info\">\n",
        "Dans les premiers temps, il est bon de bien <strong>décomposer</strong> son code. Ecrire plusieurs lignes, passer par des \"<em>variables intermédiaires</em>\" et bien controler le résultat de chaque commande vous permettra d'éviter les <strong>erreurs</strong>, de prendre <strong>confiance</strong> dans votre code et de mieux <strong>maîtriser</strong> vos acquis.\n",
        "</div>\n",
        " <div class=\"alert alert-info\" role=\"info\">\n",
        "Dans un second temps, vous pourrez commencer à <strong>factoriser</strong> votre code, c'est à dire le \"<em>compresser</em>\": écrire plusieurs lignes en une seule, sans passer par des variables intermédiaires.\n",
        "</div>"
      ]
    },
    {
      "cell_type": "code",
      "execution_count": 8,
      "id": "9c36b98c",
      "metadata": {
        "id": "9c36b98c",
        "outputId": "c4e92c3c-b5c1-4fc3-ba22-fa7f171856ed",
        "colab": {
          "base_uri": "https://localhost:8080/"
        }
      },
      "outputs": [
        {
          "output_type": "stream",
          "name": "stdout",
          "text": [
            "La somme des revenus annuelle est : 248064 €\n"
          ]
        }
      ],
      "source": [
        "# Il était donc possible de faire les 2 opérations en une ligne :\n",
        "\n",
        "somme = revenus.sum() * 12\n",
        "print(\"La somme des revenus annuelle est :\", somme, \"€\")"
      ]
    },
    {
      "cell_type": "markdown",
      "id": "3833925c",
      "metadata": {
        "id": "3833925c"
      },
      "source": [
        " <div class=\"alert alert-warning\" role=\"alert\">\n",
        "  Dans certains cas, l'<strong>ordre des opérations</strong> n'a pas d'influence sur le résultat.\n",
        "</div>"
      ]
    },
    {
      "cell_type": "code",
      "execution_count": 9,
      "id": "5480c14c",
      "metadata": {
        "id": "5480c14c",
        "outputId": "7fc21efa-348c-4768-ce2c-0ebd443e5db4",
        "colab": {
          "base_uri": "https://localhost:8080/"
        }
      },
      "outputs": [
        {
          "output_type": "execute_result",
          "data": {
            "text/plain": [
              "array([21600, 18000, 26400, 36000, 26064, 60000, 16800, 14400, 13200,\n",
              "       15600])"
            ]
          },
          "metadata": {},
          "execution_count": 9
        }
      ],
      "source": [
        "# En effet, on pouvait aussi faire :\n",
        "\n",
        "revenus_12 = revenus * 12\n",
        "revenus_12"
      ]
    },
    {
      "cell_type": "code",
      "execution_count": 10,
      "id": "fac3e3c4",
      "metadata": {
        "id": "fac3e3c4",
        "outputId": "81827081-ad5e-423e-eef3-40964005ef9e",
        "colab": {
          "base_uri": "https://localhost:8080/"
        }
      },
      "outputs": [
        {
          "output_type": "execute_result",
          "data": {
            "text/plain": [
              "248064"
            ]
          },
          "metadata": {},
          "execution_count": 10
        }
      ],
      "source": [
        "somme = revenus_12.sum()\n",
        "somme"
      ]
    },
    {
      "cell_type": "markdown",
      "id": "9ac7d530",
      "metadata": {
        "id": "9ac7d530"
      },
      "source": [
        "Enfin, en général, on note les \"grosses\" sommes en K€ ou en M€. Cela est plus facile à lire. De plus, votre interlocuteur retiendra plus volontier l'ordre de grandeur d'un chiffre ou même un chiffre 'rond' qu'un chiffre trop détaillé..."
      ]
    },
    {
      "cell_type": "code",
      "execution_count": null,
      "id": "731663fb",
      "metadata": {
        "id": "731663fb"
      },
      "outputs": [],
      "source": [
        "# Par exemple :\n",
        "\n",
        "somme_K = round(somme / 1000)\n",
        "print(\"La somme des revenus annuelle est :\", somme_K, \"K€\")"
      ]
    },
    {
      "cell_type": "code",
      "execution_count": null,
      "id": "2987d0c9",
      "metadata": {
        "id": "2987d0c9"
      },
      "outputs": [],
      "source": [
        "# Voire même :\n",
        "\n",
        "print(\"La somme des revenus annuelle est d'environ:\", 250, \"K€\")"
      ]
    },
    {
      "cell_type": "code",
      "execution_count": null,
      "id": "16fe3f16",
      "metadata": {
        "id": "16fe3f16"
      },
      "outputs": [],
      "source": [
        "# Ou encore :\n",
        "\n",
        "somme_M = round(somme / 1_000_000,2)\n",
        "print(\"La somme des revenus annuelle est :\", somme_M, \"M€\")"
      ]
    },
    {
      "cell_type": "markdown",
      "id": "94a180b7",
      "metadata": {
        "id": "94a180b7"
      },
      "source": [
        "Passons à la moyenne"
      ]
    },
    {
      "cell_type": "code",
      "execution_count": 11,
      "id": "45513d7f",
      "metadata": {
        "id": "45513d7f",
        "outputId": "562eeb91-7707-404f-a98a-19b6b3251f0d",
        "colab": {
          "base_uri": "https://localhost:8080/"
        }
      },
      "outputs": [
        {
          "output_type": "stream",
          "name": "stdout",
          "text": [
            "La moyenne des revenus mensuelle est : 2067.2 €\n"
          ]
        }
      ],
      "source": [
        "moyenne = revenus.mean()\n",
        "print(\"La moyenne des revenus mensuelle est :\", moyenne, \"€\")"
      ]
    },
    {
      "cell_type": "code",
      "execution_count": null,
      "id": "508728c7",
      "metadata": {
        "id": "508728c7"
      },
      "outputs": [],
      "source": [
        "# Ou encore :\n",
        "\n",
        "moyenne = round(moyenne)\n",
        "print(\"La moyenne des revenus mensuelle est :\", moyenne, \"€\")"
      ]
    },
    {
      "cell_type": "markdown",
      "id": "1e9d7bba",
      "metadata": {
        "id": "1e9d7bba"
      },
      "source": [
        "Un de nos clients (dont les revenus mensuels s'élevaient jusque là à 1400€) vient de nous annoncer qu'il venait d'obtenir une promotion. Grâce à cette dernière, il a gagné 200€ sur son salaire mensuel. Effectuez cette modification au sein de votre array revenus."
      ]
    },
    {
      "cell_type": "code",
      "execution_count": null,
      "id": "f4eb6a0b",
      "metadata": {
        "id": "f4eb6a0b"
      },
      "outputs": [],
      "source": [
        "print(\"Array avant :\", revenus)\n",
        "\n",
        "revenus[revenus == 1400] = 1600\n",
        "print(\"Array après :\", revenus)"
      ]
    },
    {
      "cell_type": "markdown",
      "id": "72873bc8",
      "metadata": {
        "id": "72873bc8"
      },
      "source": [
        "La modification a bien été effectuée.\n",
        "\n",
        "Pour expliciter un peu plus cette ligne de code :\n",
        "- `revenus[revenus == 1400]` vient sélectionner l'ensemble des éléments qui sont strictement égals à 1400€ (donc ici le seul qui nous intéresse)\n",
        "- la suite vient modifier cet élement par la nouvelle valeur (ici 1600)\n",
        "\n",
        "Dans le cas de cette opération on pouvait utiliser également l'opérateur '+=' en écrivant `revenus[revenus == 1400] += 200`"
      ]
    },
    {
      "cell_type": "code",
      "execution_count": null,
      "id": "8c32023b",
      "metadata": {
        "id": "8c32023b"
      },
      "outputs": [],
      "source": []
    }
  ],
  "metadata": {
    "kernelspec": {
      "display_name": "Python 3 (ipykernel)",
      "language": "python",
      "name": "python3"
    },
    "language_info": {
      "codemirror_mode": {
        "name": "ipython",
        "version": 3
      },
      "file_extension": ".py",
      "mimetype": "text/x-python",
      "name": "python",
      "nbconvert_exporter": "python",
      "pygments_lexer": "ipython3",
      "version": "3.9.13"
    },
    "colab": {
      "provenance": []
    }
  },
  "nbformat": 4,
  "nbformat_minor": 5
}